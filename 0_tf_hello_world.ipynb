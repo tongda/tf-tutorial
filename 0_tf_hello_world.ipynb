{
 "cells": [
  {
   "cell_type": "markdown",
   "metadata": {},
   "source": [
    "You can press shift + enter to quickly advance through each line of a notebook. Try it now!"
   ]
  },
  {
   "cell_type": "markdown",
   "metadata": {},
   "source": [
    "This snippet of Python creates an extremely simple graph and runs."
   ]
  },
  {
   "cell_type": "code",
   "execution_count": null,
   "metadata": {
    "collapsed": false
   },
   "outputs": [],
   "source": [
    "import tensorflow as tf\n",
    "import matplotlib\n",
    "\n",
    "hello = tf.constant('Hello, TensorFlow!')\n",
    "sess = tf.Session()\n",
    "print(sess.run(hello))"
   ]
  },
  {
   "cell_type": "markdown",
   "metadata": {},
   "source": [
    "If you see \"Hello, TensorFlow!\", everything is working well."
   ]
  },
  {
   "cell_type": "code",
   "execution_count": null,
   "metadata": {
    "collapsed": false
   },
   "outputs": [],
   "source": [
    "import tensorflow as tf\n",
    "\n",
    "\n",
    "tf.add(1, 2)\n",
    "# 3\n",
    "\n",
    "tf.sub(2, 1)\n",
    "# 1\n",
    "\n",
    "tf.mul(2, 2)\n",
    "# 4\n",
    "\n",
    "tf.div(2, 2)\n",
    "# 1\n",
    "\n",
    "tf.mod(4, 5)\n",
    "# 4\n",
    "\n",
    "tf.pow(3, 2)\n",
    "# 9\n",
    "\n",
    "# x < y\n",
    "tf.less(1, 2)\n",
    "# True \n",
    "\n",
    "# x <= y\n",
    "tf.less_equal(1, 1)\n",
    "# True\n",
    "\n",
    "tf.greater(1, 2)\n",
    "# False\n",
    "\n",
    "tf.greater_equal(1, 2)\n",
    "# False\n",
    "\n",
    "tf.logical_and(True, False)\n",
    "# False\n",
    "\n",
    "tf.logical_or(True, False)\n",
    "# True\n",
    "\n",
    "tf.logical_xor(True, False)\n",
    "# True\n",
    "\n",
    "# Uncomment this, ohterwise the graph will not present.\n",
    "# tf.Variable([1,2,3], dtype=tf.int32)\n",
    "\n",
    "writer = tf.train.SummaryWriter('/tmp/tf-basics', sess.graph)"
   ]
  },
  {
   "cell_type": "code",
   "execution_count": null,
   "metadata": {
    "collapsed": true
   },
   "outputs": [],
   "source": [
    "# create a constant 2X2 matrix\n",
    "tensor_1 = tf.constant([[1., 2.], [3.,4]])\n",
    "\n",
    "tensor_2 = tf.constant([[5.,6.],[7.,8.]])\n",
    "\n",
    "# create a matrix multiplication operation\n",
    "output_tensor = tf.matmul(tensor_1, tensor_2)\n",
    "\n",
    "# have to run the graph using a session\n",
    "sess = tf.Session()\n",
    "\n",
    "result = sess.run(output_tensor)\n",
    "print(result)\n",
    "\n",
    "sess.close()"
   ]
  },
  {
   "cell_type": "markdown",
   "metadata": {},
   "source": [
    "<p>Next to [1_linear_regression_model.ipynb](1_linear_regression_model.ipynb).</p>"
   ]
  }
 ],
 "metadata": {
  "kernelspec": {
   "display_name": "Python 3",
   "language": "python",
   "name": "python3"
  },
  "language_info": {
   "codemirror_mode": {
    "name": "ipython",
    "version": 3
   },
   "file_extension": ".py",
   "mimetype": "text/x-python",
   "name": "python",
   "nbconvert_exporter": "python",
   "pygments_lexer": "ipython3",
   "version": "3.5.2"
  }
 },
 "nbformat": 4,
 "nbformat_minor": 0
}
